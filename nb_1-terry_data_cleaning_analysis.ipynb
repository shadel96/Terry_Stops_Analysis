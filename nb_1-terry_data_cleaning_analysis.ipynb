{
 "cells": [
  {
   "cell_type": "markdown",
   "metadata": {},
   "source": [
    "# **Seattle Terry Stop Data Analysis**\n",
    "\n",
    "##### Author: Spencer Hadel\n",
    "***\n",
    "### Overview\n",
    "\n",
    "Recent tensions in the United States have led to a mistrust of police forces across the country, particularly due to the increasing strength of movements such as Black Lives Matter, and increased cultural attention to the racial and ethnic disparity in many facets of life. There is increasing focus on the scope of what police officer's are legally able to do, and whether they use this right fairly.\n",
    "\n",
    "One such disparity has been observed in Terry Stops (also known as 'stop-and-frisks'), when a police officer uses theur right to legally temporarily detain a person based on 'reasonable suspsicion' that the person may be involved in criminal activity. The officer has the right to physically 'frisk' the subject, and take whatever action they feel is necessary properly handle the situation.\n",
    "\n",
    "The newly elected mayor of Seattle campaigned on a platform of police reform, and has hired our agency to analyze, test, and interpret the current Seattle police department's Terry Stop data, so that their selected Chief of Police can make meaningful changes to the system as it stands.\n",
    "\n",
    "***\n",
    "\n",
    "# Part 1: Data Cleaning and Analysis\n",
    "\n",
    "We will clean the dataset to create interpretable results, and then attempt to create classification models which can accurately predict Terry Stop outcomes based on Seattle's current record keeping standards. We will also investigate whether the data as it currently exists indicates any racial bias in the handling of Terry Stops."
   ]
  },
  {
   "cell_type": "code",
   "execution_count": 1,
   "metadata": {},
   "outputs": [],
   "source": [
    "from imports import *"
   ]
  },
  {
   "cell_type": "code",
   "execution_count": 2,
   "metadata": {},
   "outputs": [
    {
     "data": {
      "text/html": [
       "<div>\n",
       "<style scoped>\n",
       "    .dataframe tbody tr th:only-of-type {\n",
       "        vertical-align: middle;\n",
       "    }\n",
       "\n",
       "    .dataframe tbody tr th {\n",
       "        vertical-align: top;\n",
       "    }\n",
       "\n",
       "    .dataframe thead th {\n",
       "        text-align: right;\n",
       "    }\n",
       "</style>\n",
       "<table border=\"1\" class=\"dataframe\">\n",
       "  <thead>\n",
       "    <tr style=\"text-align: right;\">\n",
       "      <th></th>\n",
       "      <th>Subject Age Group</th>\n",
       "      <th>Subject ID</th>\n",
       "      <th>GO / SC Num</th>\n",
       "      <th>Terry Stop ID</th>\n",
       "      <th>Stop Resolution</th>\n",
       "      <th>Weapon Type</th>\n",
       "      <th>Officer ID</th>\n",
       "      <th>Officer YOB</th>\n",
       "      <th>Officer Gender</th>\n",
       "      <th>Officer Race</th>\n",
       "      <th>...</th>\n",
       "      <th>Reported Time</th>\n",
       "      <th>Initial Call Type</th>\n",
       "      <th>Final Call Type</th>\n",
       "      <th>Call Type</th>\n",
       "      <th>Officer Squad</th>\n",
       "      <th>Arrest Flag</th>\n",
       "      <th>Frisk Flag</th>\n",
       "      <th>Precinct</th>\n",
       "      <th>Sector</th>\n",
       "      <th>Beat</th>\n",
       "    </tr>\n",
       "  </thead>\n",
       "  <tbody>\n",
       "    <tr>\n",
       "      <th>0</th>\n",
       "      <td>-</td>\n",
       "      <td>-1</td>\n",
       "      <td>20140000120677</td>\n",
       "      <td>92317</td>\n",
       "      <td>Arrest</td>\n",
       "      <td>None</td>\n",
       "      <td>7500</td>\n",
       "      <td>1984</td>\n",
       "      <td>M</td>\n",
       "      <td>Black or African American</td>\n",
       "      <td>...</td>\n",
       "      <td>11:32:00.0000000</td>\n",
       "      <td>-</td>\n",
       "      <td>-</td>\n",
       "      <td>-</td>\n",
       "      <td>SOUTH PCT 1ST W - ROBERT</td>\n",
       "      <td>N</td>\n",
       "      <td>N</td>\n",
       "      <td>South</td>\n",
       "      <td>O</td>\n",
       "      <td>O2</td>\n",
       "    </tr>\n",
       "    <tr>\n",
       "      <th>1</th>\n",
       "      <td>-</td>\n",
       "      <td>-1</td>\n",
       "      <td>20150000001463</td>\n",
       "      <td>28806</td>\n",
       "      <td>Field Contact</td>\n",
       "      <td>None</td>\n",
       "      <td>5670</td>\n",
       "      <td>1965</td>\n",
       "      <td>M</td>\n",
       "      <td>White</td>\n",
       "      <td>...</td>\n",
       "      <td>07:59:00.0000000</td>\n",
       "      <td>-</td>\n",
       "      <td>-</td>\n",
       "      <td>-</td>\n",
       "      <td>NaN</td>\n",
       "      <td>N</td>\n",
       "      <td>N</td>\n",
       "      <td>-</td>\n",
       "      <td>-</td>\n",
       "      <td>-</td>\n",
       "    </tr>\n",
       "    <tr>\n",
       "      <th>2</th>\n",
       "      <td>-</td>\n",
       "      <td>-1</td>\n",
       "      <td>20150000001516</td>\n",
       "      <td>29599</td>\n",
       "      <td>Field Contact</td>\n",
       "      <td>None</td>\n",
       "      <td>4844</td>\n",
       "      <td>1961</td>\n",
       "      <td>M</td>\n",
       "      <td>White</td>\n",
       "      <td>...</td>\n",
       "      <td>19:12:00.0000000</td>\n",
       "      <td>-</td>\n",
       "      <td>-</td>\n",
       "      <td>-</td>\n",
       "      <td>NaN</td>\n",
       "      <td>N</td>\n",
       "      <td>-</td>\n",
       "      <td>-</td>\n",
       "      <td>-</td>\n",
       "      <td>-</td>\n",
       "    </tr>\n",
       "    <tr>\n",
       "      <th>3</th>\n",
       "      <td>-</td>\n",
       "      <td>-1</td>\n",
       "      <td>20150000001670</td>\n",
       "      <td>32260</td>\n",
       "      <td>Field Contact</td>\n",
       "      <td>None</td>\n",
       "      <td>7539</td>\n",
       "      <td>1963</td>\n",
       "      <td>M</td>\n",
       "      <td>White</td>\n",
       "      <td>...</td>\n",
       "      <td>04:55:00.0000000</td>\n",
       "      <td>-</td>\n",
       "      <td>-</td>\n",
       "      <td>-</td>\n",
       "      <td>NaN</td>\n",
       "      <td>N</td>\n",
       "      <td>N</td>\n",
       "      <td>-</td>\n",
       "      <td>-</td>\n",
       "      <td>-</td>\n",
       "    </tr>\n",
       "    <tr>\n",
       "      <th>4</th>\n",
       "      <td>-</td>\n",
       "      <td>-1</td>\n",
       "      <td>20150000001739</td>\n",
       "      <td>33155</td>\n",
       "      <td>Field Contact</td>\n",
       "      <td>None</td>\n",
       "      <td>6973</td>\n",
       "      <td>1977</td>\n",
       "      <td>M</td>\n",
       "      <td>White</td>\n",
       "      <td>...</td>\n",
       "      <td>00:41:00.0000000</td>\n",
       "      <td>-</td>\n",
       "      <td>-</td>\n",
       "      <td>-</td>\n",
       "      <td>NaN</td>\n",
       "      <td>N</td>\n",
       "      <td>N</td>\n",
       "      <td>-</td>\n",
       "      <td>-</td>\n",
       "      <td>-</td>\n",
       "    </tr>\n",
       "  </tbody>\n",
       "</table>\n",
       "<p>5 rows × 23 columns</p>\n",
       "</div>"
      ],
      "text/plain": [
       "  Subject Age Group  Subject ID     GO / SC Num  Terry Stop ID  \\\n",
       "0                 -          -1  20140000120677          92317   \n",
       "1                 -          -1  20150000001463          28806   \n",
       "2                 -          -1  20150000001516          29599   \n",
       "3                 -          -1  20150000001670          32260   \n",
       "4                 -          -1  20150000001739          33155   \n",
       "\n",
       "  Stop Resolution Weapon Type Officer ID  Officer YOB Officer Gender  \\\n",
       "0          Arrest        None       7500         1984              M   \n",
       "1   Field Contact        None       5670         1965              M   \n",
       "2   Field Contact        None       4844         1961              M   \n",
       "3   Field Contact        None       7539         1963              M   \n",
       "4   Field Contact        None       6973         1977              M   \n",
       "\n",
       "                Officer Race  ...     Reported Time Initial Call Type  \\\n",
       "0  Black or African American  ...  11:32:00.0000000                 -   \n",
       "1                      White  ...  07:59:00.0000000                 -   \n",
       "2                      White  ...  19:12:00.0000000                 -   \n",
       "3                      White  ...  04:55:00.0000000                 -   \n",
       "4                      White  ...  00:41:00.0000000                 -   \n",
       "\n",
       "  Final Call Type Call Type             Officer Squad Arrest Flag Frisk Flag  \\\n",
       "0               -         -  SOUTH PCT 1ST W - ROBERT           N          N   \n",
       "1               -         -                       NaN           N          N   \n",
       "2               -         -                       NaN           N          -   \n",
       "3               -         -                       NaN           N          N   \n",
       "4               -         -                       NaN           N          N   \n",
       "\n",
       "  Precinct Sector Beat  \n",
       "0    South      O   O2  \n",
       "1        -      -    -  \n",
       "2        -      -    -  \n",
       "3        -      -    -  \n",
       "4        -      -    -  \n",
       "\n",
       "[5 rows x 23 columns]"
      ]
     },
     "execution_count": 2,
     "metadata": {},
     "output_type": "execute_result"
    }
   ],
   "source": [
    "data = pd.read_csv('data/Terry_Stops.csv')\n",
    "\n",
    "data.head()"
   ]
  },
  {
   "cell_type": "code",
   "execution_count": 3,
   "metadata": {},
   "outputs": [
    {
     "name": "stdout",
     "output_type": "stream",
     "text": [
      "<class 'pandas.core.frame.DataFrame'>\n",
      "RangeIndex: 52668 entries, 0 to 52667\n",
      "Data columns (total 23 columns):\n",
      " #   Column                    Non-Null Count  Dtype \n",
      "---  ------                    --------------  ----- \n",
      " 0   Subject Age Group         52668 non-null  object\n",
      " 1   Subject ID                52668 non-null  int64 \n",
      " 2   GO / SC Num               52668 non-null  int64 \n",
      " 3   Terry Stop ID             52668 non-null  int64 \n",
      " 4   Stop Resolution           52668 non-null  object\n",
      " 5   Weapon Type               52668 non-null  object\n",
      " 6   Officer ID                52668 non-null  object\n",
      " 7   Officer YOB               52668 non-null  int64 \n",
      " 8   Officer Gender            52668 non-null  object\n",
      " 9   Officer Race              52668 non-null  object\n",
      " 10  Subject Perceived Race    52668 non-null  object\n",
      " 11  Subject Perceived Gender  52668 non-null  object\n",
      " 12  Reported Date             52668 non-null  object\n",
      " 13  Reported Time             52668 non-null  object\n",
      " 14  Initial Call Type         52668 non-null  object\n",
      " 15  Final Call Type           52668 non-null  object\n",
      " 16  Call Type                 52668 non-null  object\n",
      " 17  Officer Squad             52182 non-null  object\n",
      " 18  Arrest Flag               52668 non-null  object\n",
      " 19  Frisk Flag                52668 non-null  object\n",
      " 20  Precinct                  52668 non-null  object\n",
      " 21  Sector                    52668 non-null  object\n",
      " 22  Beat                      52668 non-null  object\n",
      "dtypes: int64(4), object(19)\n",
      "memory usage: 9.2+ MB\n"
     ]
    }
   ],
   "source": [
    "#look at data for dtypes and null values, cleaning\n",
    "\n",
    "data.info()"
   ]
  },
  {
   "cell_type": "markdown",
   "metadata": {},
   "source": [
    "All columns seem to match up except for one, shown more clearly below"
   ]
  },
  {
   "cell_type": "code",
   "execution_count": 4,
   "metadata": {
    "scrolled": true
   },
   "outputs": [
    {
     "data": {
      "text/plain": [
       "Subject Age Group             0\n",
       "Subject ID                    0\n",
       "GO / SC Num                   0\n",
       "Terry Stop ID                 0\n",
       "Stop Resolution               0\n",
       "Weapon Type                   0\n",
       "Officer ID                    0\n",
       "Officer YOB                   0\n",
       "Officer Gender                0\n",
       "Officer Race                  0\n",
       "Subject Perceived Race        0\n",
       "Subject Perceived Gender      0\n",
       "Reported Date                 0\n",
       "Reported Time                 0\n",
       "Initial Call Type             0\n",
       "Final Call Type               0\n",
       "Call Type                     0\n",
       "Officer Squad               486\n",
       "Arrest Flag                   0\n",
       "Frisk Flag                    0\n",
       "Precinct                      0\n",
       "Sector                        0\n",
       "Beat                          0\n",
       "dtype: int64"
      ]
     },
     "execution_count": 4,
     "metadata": {},
     "output_type": "execute_result"
    }
   ],
   "source": [
    "data.isnull().sum()"
   ]
  },
  {
   "cell_type": "code",
   "execution_count": 5,
   "metadata": {
    "scrolled": true
   },
   "outputs": [
    {
     "data": {
      "text/plain": [
       "TRAINING - FIELD TRAINING SQUAD                   5594\n",
       "WEST PCT 1ST W - DAVID/MARY                       1671\n",
       "SOUTHWEST PCT 2ND W - FRANK                       1142\n",
       "WEST PCT 2ND W - D/M RELIEF                       1113\n",
       "WEST PCT 1ST W - KING/QUEEN                       1030\n",
       "                                                  ... \n",
       "TRAINING - ADVANCED UNIT ADMINISTRATION              1\n",
       "COMM - INTERNET AND TELEPHONE REPORTING (ITRU)       1\n",
       "ARSON/BOMB - SQUAD A                                 1\n",
       "BURG/THEFT/JUV - WEST                                1\n",
       "SVU SQUAD D - ORDER SERVICE                          1\n",
       "Name: Officer Squad, Length: 184, dtype: int64"
      ]
     },
     "execution_count": 5,
     "metadata": {},
     "output_type": "execute_result"
    }
   ],
   "source": [
    "#officer squad has null values\n",
    "data['Officer Squad'].value_counts()"
   ]
  },
  {
   "cell_type": "code",
   "execution_count": 6,
   "metadata": {},
   "outputs": [],
   "source": [
    "#this data not relevant to current objective\n",
    "\n",
    "data_nulls_removed = data.drop(['Officer Squad'], axis=1)\n",
    "\n",
    "#now check other columns for things to drop"
   ]
  },
  {
   "cell_type": "markdown",
   "metadata": {},
   "source": [
    "## Investigating the Data\n",
    "\n",
    "The page on data.seattle.gov lists descriptions for each column as the following:\n",
    "\n",
    "> * `Subject Age Group`: Subject Age Group (10 year increments) as reported by the officer.\n",
    "> * `Subject ID`: Key, generated daily, identifying unique subjects in the dataset using a character to character match of first name and last name. \"Null\" values indicate an \"anonymous\" or \"unidentified\" subject. Subjects of a Terry Stop are not required to present identification.\n",
    "> * `GO / SC Num`: General Offense or Street Check number, relating the Terry Stop to the parent report. This field may have a one to many relationship in the data.\n",
    "> * `Terry Stop ID`: Key identifying unique Terry Stop reports.\n",
    "> * `Stop Resolution`: Resolution of the stop as reported by the officer.\n",
    "> * `Weapon Type`: Type of weapon, if any, identified during a search or frisk of the subject. Indicates \"None\" if no weapons was found.\n",
    "> * `Officer ID`: Key identifying unique officers in the dataset.\n",
    "> * `Officer YOB`: Year of birth, as reported by the officer.\n",
    "> * `Officer Gender`: Gender of the officer, as reported by the officer.\n",
    "> * `Officer Race`: Race of the officer, as reported by the officer.\n",
    "> * `Subject Perceived Race`: Perceived race of the subject, as reported by the officer.\n",
    "> * `Subject Perceived Gender`: Perceived gender of the subject, as reported by the officer.\n",
    "> * `Reported Date`: Date the report was filed in the Records Management System (RMS). Not necessarily the date the stop occurred but generally within 1 day.\n",
    "> * `Reported Time`: Time the stop was reported in the Records Management System (RMS). Not the time the stop occurred but generally within 10 hours.\n",
    "> * `Initial Call Type`: Initial classification of the call as assigned by 911.\n",
    "> * `Final Call Type`: Final classification of the call as assigned by the primary officer closing the event.\n",
    "> * `Call Type`: How the call was received by the communication center.\n",
    "> * `Officer Squad`: Functional squad assignment (not budget) of the officer as reported by the Data Analytics Platform (DAP).\n",
    "> * `Arrest Flag`: Indicator of whether a \"physical arrest\" was made, of the subject, during the Terry Stop. Does not necessarily reflect a report of an arrest in the Records Management System (RMS).\n",
    "> * `Frisk Flag`: Indicator of whether a \"frisk\" was conducted, by the officer, of the subject, during the Terry Stop.\n",
    "> * `Precinct`: Precinct of the address associated with the underlying Computer Aided Dispatch (CAD) event. Not necessarily where the Terry Stop occurred.\n",
    "> * `Sector`: Sector of the address associated with the underlying Computer Aided Dispatch (CAD) event. Not necessarily where the Terry Stop occurred.\n",
    "> * `Beat`: Beat of the address associated with the underlying Computer Aided Dispatch (CAD) event. Not necessarily where the Terry Stop occurred."
   ]
  },
  {
   "cell_type": "markdown",
   "metadata": {},
   "source": [
    "Reported Time does not apply to this study, and Reported Date will be used with Officer YOB to create a new column, the approximate Officer Age.\n",
    "\n",
    "ID numbers arent useful for creating a data model.\n",
    "\n",
    "Likewise, the Precinct, Sector, and Beat information are not significant to this study. Future examinations could of course use this data to examine how individual precincts or sectors engage in racial or gender bias in Terry Stops."
   ]
  },
  {
   "cell_type": "code",
   "execution_count": 7,
   "metadata": {
    "scrolled": false
   },
   "outputs": [],
   "source": [
    "data_nulls_removed['Officer_Age'] = data_nulls_removed['Reported Date'].str[:4].astype(int)-data_nulls_removed['Officer YOB']\n",
    "\n",
    "drop_list = ['Reported Date', 'Officer YOB','Subject ID', 'Terry Stop ID', 'Officer ID',  'GO / SC Num', 'Precinct', 'Sector', \n",
    "             'Beat', 'Reported Time']\n",
    "\n",
    "df = data_nulls_removed.drop(drop_list, axis=1)"
   ]
  },
  {
   "cell_type": "code",
   "execution_count": 8,
   "metadata": {},
   "outputs": [
    {
     "data": {
      "text/html": [
       "<div>\n",
       "<style scoped>\n",
       "    .dataframe tbody tr th:only-of-type {\n",
       "        vertical-align: middle;\n",
       "    }\n",
       "\n",
       "    .dataframe tbody tr th {\n",
       "        vertical-align: top;\n",
       "    }\n",
       "\n",
       "    .dataframe thead th {\n",
       "        text-align: right;\n",
       "    }\n",
       "</style>\n",
       "<table border=\"1\" class=\"dataframe\">\n",
       "  <thead>\n",
       "    <tr style=\"text-align: right;\">\n",
       "      <th></th>\n",
       "      <th>Subject_Age_Group</th>\n",
       "      <th>Stop_Resolution</th>\n",
       "      <th>Weapon_Type</th>\n",
       "      <th>Officer_Gender</th>\n",
       "      <th>Officer_Race</th>\n",
       "      <th>Subject_Perceived_Race</th>\n",
       "      <th>Subject_Perceived_Gender</th>\n",
       "      <th>Initial_Call_Type</th>\n",
       "      <th>Final_Call_Type</th>\n",
       "      <th>Call_Type</th>\n",
       "      <th>Arrest_Flag</th>\n",
       "      <th>Frisk_Flag</th>\n",
       "      <th>Officer_Age</th>\n",
       "    </tr>\n",
       "  </thead>\n",
       "  <tbody>\n",
       "    <tr>\n",
       "      <th>0</th>\n",
       "      <td>-</td>\n",
       "      <td>Arrest</td>\n",
       "      <td>None</td>\n",
       "      <td>M</td>\n",
       "      <td>Black or African American</td>\n",
       "      <td>Asian</td>\n",
       "      <td>Male</td>\n",
       "      <td>-</td>\n",
       "      <td>-</td>\n",
       "      <td>-</td>\n",
       "      <td>N</td>\n",
       "      <td>N</td>\n",
       "      <td>31</td>\n",
       "    </tr>\n",
       "    <tr>\n",
       "      <th>1</th>\n",
       "      <td>-</td>\n",
       "      <td>Field Contact</td>\n",
       "      <td>None</td>\n",
       "      <td>M</td>\n",
       "      <td>White</td>\n",
       "      <td>-</td>\n",
       "      <td>-</td>\n",
       "      <td>-</td>\n",
       "      <td>-</td>\n",
       "      <td>-</td>\n",
       "      <td>N</td>\n",
       "      <td>N</td>\n",
       "      <td>50</td>\n",
       "    </tr>\n",
       "    <tr>\n",
       "      <th>2</th>\n",
       "      <td>-</td>\n",
       "      <td>Field Contact</td>\n",
       "      <td>None</td>\n",
       "      <td>M</td>\n",
       "      <td>White</td>\n",
       "      <td>White</td>\n",
       "      <td>Male</td>\n",
       "      <td>-</td>\n",
       "      <td>-</td>\n",
       "      <td>-</td>\n",
       "      <td>N</td>\n",
       "      <td>-</td>\n",
       "      <td>54</td>\n",
       "    </tr>\n",
       "    <tr>\n",
       "      <th>3</th>\n",
       "      <td>-</td>\n",
       "      <td>Field Contact</td>\n",
       "      <td>None</td>\n",
       "      <td>M</td>\n",
       "      <td>White</td>\n",
       "      <td>-</td>\n",
       "      <td>-</td>\n",
       "      <td>-</td>\n",
       "      <td>-</td>\n",
       "      <td>-</td>\n",
       "      <td>N</td>\n",
       "      <td>N</td>\n",
       "      <td>52</td>\n",
       "    </tr>\n",
       "    <tr>\n",
       "      <th>4</th>\n",
       "      <td>-</td>\n",
       "      <td>Field Contact</td>\n",
       "      <td>None</td>\n",
       "      <td>M</td>\n",
       "      <td>White</td>\n",
       "      <td>Black or African American</td>\n",
       "      <td>Male</td>\n",
       "      <td>-</td>\n",
       "      <td>-</td>\n",
       "      <td>-</td>\n",
       "      <td>N</td>\n",
       "      <td>N</td>\n",
       "      <td>38</td>\n",
       "    </tr>\n",
       "  </tbody>\n",
       "</table>\n",
       "</div>"
      ],
      "text/plain": [
       "  Subject_Age_Group Stop_Resolution Weapon_Type Officer_Gender  \\\n",
       "0                 -          Arrest        None              M   \n",
       "1                 -   Field Contact        None              M   \n",
       "2                 -   Field Contact        None              M   \n",
       "3                 -   Field Contact        None              M   \n",
       "4                 -   Field Contact        None              M   \n",
       "\n",
       "                Officer_Race     Subject_Perceived_Race  \\\n",
       "0  Black or African American                      Asian   \n",
       "1                      White                          -   \n",
       "2                      White                      White   \n",
       "3                      White                          -   \n",
       "4                      White  Black or African American   \n",
       "\n",
       "  Subject_Perceived_Gender Initial_Call_Type Final_Call_Type Call_Type  \\\n",
       "0                     Male                 -               -         -   \n",
       "1                        -                 -               -         -   \n",
       "2                     Male                 -               -         -   \n",
       "3                        -                 -               -         -   \n",
       "4                     Male                 -               -         -   \n",
       "\n",
       "  Arrest_Flag Frisk_Flag  Officer_Age  \n",
       "0           N          N           31  \n",
       "1           N          N           50  \n",
       "2           N          -           54  \n",
       "3           N          N           52  \n",
       "4           N          N           38  "
      ]
     },
     "execution_count": 8,
     "metadata": {},
     "output_type": "execute_result"
    }
   ],
   "source": [
    "df.columns = df.columns.str.replace(' ','_')\n",
    "df.head()"
   ]
  },
  {
   "cell_type": "code",
   "execution_count": 9,
   "metadata": {
    "scrolled": true
   },
   "outputs": [
    {
     "name": "stdout",
     "output_type": "stream",
     "text": [
      "<class 'pandas.core.frame.DataFrame'>\n",
      "RangeIndex: 52668 entries, 0 to 52667\n",
      "Data columns (total 13 columns):\n",
      " #   Column                    Non-Null Count  Dtype \n",
      "---  ------                    --------------  ----- \n",
      " 0   Subject_Age_Group         52668 non-null  object\n",
      " 1   Stop_Resolution           52668 non-null  object\n",
      " 2   Weapon_Type               52668 non-null  object\n",
      " 3   Officer_Gender            52668 non-null  object\n",
      " 4   Officer_Race              52668 non-null  object\n",
      " 5   Subject_Perceived_Race    52668 non-null  object\n",
      " 6   Subject_Perceived_Gender  52668 non-null  object\n",
      " 7   Initial_Call_Type         52668 non-null  object\n",
      " 8   Final_Call_Type           52668 non-null  object\n",
      " 9   Call_Type                 52668 non-null  object\n",
      " 10  Arrest_Flag               52668 non-null  object\n",
      " 11  Frisk_Flag                52668 non-null  object\n",
      " 12  Officer_Age               52668 non-null  int64 \n",
      "dtypes: int64(1), object(12)\n",
      "memory usage: 5.2+ MB\n"
     ]
    }
   ],
   "source": [
    "df.info()"
   ]
  },
  {
   "cell_type": "markdown",
   "metadata": {},
   "source": [
    "We now observe what sort of data is in the columns that remain."
   ]
  },
  {
   "cell_type": "code",
   "execution_count": 10,
   "metadata": {
    "scrolled": false
   },
   "outputs": [
    {
     "data": {
      "text/plain": [
       "-                1786\n",
       "1 - 17           2067\n",
       "18 - 25         10360\n",
       "26 - 35         17599\n",
       "36 - 45         11375\n",
       "46 - 55          6765\n",
       "56 and Above     2716\n",
       "Name: Subject_Age_Group, dtype: int64"
      ]
     },
     "execution_count": 10,
     "metadata": {},
     "output_type": "execute_result"
    }
   ],
   "source": [
    "df['Subject_Age_Group'].value_counts().sort_index(ascending=True)"
   ]
  },
  {
   "cell_type": "code",
   "execution_count": 11,
   "metadata": {
    "scrolled": true
   },
   "outputs": [
    {
     "data": {
      "text/plain": [
       "N    47932\n",
       "Y     4736\n",
       "Name: Arrest_Flag, dtype: int64"
      ]
     },
     "execution_count": 11,
     "metadata": {},
     "output_type": "execute_result"
    }
   ],
   "source": [
    "df['Arrest_Flag'].value_counts()"
   ]
  },
  {
   "cell_type": "code",
   "execution_count": 12,
   "metadata": {},
   "outputs": [
    {
     "data": {
      "text/plain": [
       "Field Contact               22308\n",
       "Offense Report              16499\n",
       "Arrest                      12944\n",
       "Referred for Prosecution      728\n",
       "Citation / Infraction         189\n",
       "Name: Stop_Resolution, dtype: int64"
      ]
     },
     "execution_count": 12,
     "metadata": {},
     "output_type": "execute_result"
    }
   ],
   "source": [
    "df['Stop_Resolution'].value_counts()"
   ]
  },
  {
   "cell_type": "markdown",
   "metadata": {},
   "source": [
    "This column is interesting, as first of all the \"Arrest\" values do not line up with the \"Arrest Flag\" column. The description of this data says that \"Arrest Flag\" applies to whether or not a \"physical arrest\" was made AT the stop. We will break this collective data into multiple new columns. Each of these new columns will be target variables for different runs of our classifiers in the future.\n",
    "\n",
    "\"Arrest Flag\" will change to \"Physical Arrest\", and \"Stop Resolution\" will be changed to \"Legal Action Taken\" for all cases that do not list \"Field Contact\" as their value (which we can assume is simply the act of an officer performing the stop). Additionally, we will create a new column specifically for when the resolution was officially an arrest, and name it \"Arrested\"."
   ]
  },
  {
   "cell_type": "code",
   "execution_count": 13,
   "metadata": {},
   "outputs": [],
   "source": [
    "df['Legal_Action_Taken'] = df['Stop_Resolution'].map(lambda x: 0 if x in ['Field Contact'] else 1)\n",
    "df['Arrested'] = df['Stop_Resolution'].map(lambda x: 1 if x == 'Arrest' else 0)\n",
    "df['Physical_Arrest'] = df['Arrest_Flag'].map(lambda x: 1 if x == 'Y' else 0)\n",
    "\n",
    "df.drop(['Stop_Resolution', 'Arrest_Flag'], axis=1, inplace=True)"
   ]
  },
  {
   "cell_type": "code",
   "execution_count": 14,
   "metadata": {},
   "outputs": [
    {
     "name": "stdout",
     "output_type": "stream",
     "text": [
      "0    39724\n",
      "1    12944\n",
      "Name: Arrested, dtype: int64\n",
      "1    30360\n",
      "0    22308\n",
      "Name: Legal_Action_Taken, dtype: int64\n",
      "0    47932\n",
      "1     4736\n",
      "Name: Physical_Arrest, dtype: int64\n"
     ]
    }
   ],
   "source": [
    "for x in ['Arrested', 'Legal_Action_Taken', 'Physical_Arrest']:\n",
    "    print(df[x].value_counts())"
   ]
  },
  {
   "cell_type": "code",
   "execution_count": 15,
   "metadata": {
    "scrolled": true
   },
   "outputs": [
    {
     "data": {
      "text/plain": [
       "None                                    32565\n",
       "-                                       16892\n",
       "Lethal Cutting Instrument                1482\n",
       "Knife/Cutting/Stabbing Instrument         917\n",
       "Handgun                                   333\n",
       "Blunt Object/Striking Implement           118\n",
       "Firearm Other                             100\n",
       "Firearm                                    59\n",
       "Club, Blackjack, Brass Knuckles            49\n",
       "Mace/Pepper Spray                          41\n",
       "Other Firearm                              38\n",
       "Firearm (unk type)                         15\n",
       "Taser/Stun Gun                             12\n",
       "Fire/Incendiary Device                     11\n",
       "None/Not Applicable                         9\n",
       "Club                                        9\n",
       "Rifle                                       8\n",
       "Shotgun                                     4\n",
       "Personal Weapons (hands, feet, etc.)        2\n",
       "Automatic Handgun                           2\n",
       "Brass Knuckles                              1\n",
       "Blackjack                                   1\n",
       "Name: Weapon_Type, dtype: int64"
      ]
     },
     "execution_count": 15,
     "metadata": {},
     "output_type": "execute_result"
    }
   ],
   "source": [
    "df['Weapon_Type'].value_counts()"
   ]
  },
  {
   "cell_type": "markdown",
   "metadata": {},
   "source": [
    "For the sake of clarity, we will separate weapon data into whether or not a weapon was reported. The specific type of weapon is not significant to our analysis."
   ]
  },
  {
   "cell_type": "code",
   "execution_count": 16,
   "metadata": {
    "scrolled": true
   },
   "outputs": [
    {
     "data": {
      "text/plain": [
       "No Weapon Reported    49468\n",
       "Weapon Reported        3200\n",
       "Name: Was_Weapon_Reported, dtype: int64"
      ]
     },
     "execution_count": 16,
     "metadata": {},
     "output_type": "execute_result"
    }
   ],
   "source": [
    "#separate weapon type data\n",
    "\n",
    "df.rename(columns={\"Weapon_Type\": \"Was_Weapon_Reported\"}, inplace=True)\n",
    "\n",
    "unarmed = ['None', '-', 'None/Not Applicable','Personal Weapons (hands, feet, etc.)']\n",
    "\n",
    "df['Was_Weapon_Reported'] = df['Was_Weapon_Reported'].map(lambda x: 'No Weapon Reported' if x in unarmed else 'Weapon Reported')\n",
    "\n",
    "df['Was_Weapon_Reported'].value_counts()"
   ]
  },
  {
   "cell_type": "code",
   "execution_count": 17,
   "metadata": {},
   "outputs": [
    {
     "data": {
      "text/plain": [
       "M    46629\n",
       "F     6009\n",
       "N       30\n",
       "Name: Officer_Gender, dtype: int64"
      ]
     },
     "execution_count": 17,
     "metadata": {},
     "output_type": "execute_result"
    }
   ],
   "source": [
    "df['Officer_Gender'].value_counts()"
   ]
  },
  {
   "cell_type": "code",
   "execution_count": 18,
   "metadata": {},
   "outputs": [
    {
     "data": {
      "text/plain": [
       "White                            38737\n",
       "Two or More Races                 3232\n",
       "Hispanic or Latino                3196\n",
       "Asian                             2332\n",
       "Not Specified                     2210\n",
       "Black or African American         2102\n",
       "Nat Hawaiian/Oth Pac Islander      484\n",
       "American Indian/Alaska Native      332\n",
       "Unknown                             43\n",
       "Name: Officer_Race, dtype: int64"
      ]
     },
     "execution_count": 18,
     "metadata": {},
     "output_type": "execute_result"
    }
   ],
   "source": [
    "df['Officer_Race'].value_counts()"
   ]
  },
  {
   "cell_type": "code",
   "execution_count": 19,
   "metadata": {},
   "outputs": [
    {
     "data": {
      "text/plain": [
       "White                                        25798\n",
       "Black or African American                    15666\n",
       "Unknown                                       3407\n",
       "-                                             1809\n",
       "Asian                                         1764\n",
       "Hispanic                                      1684\n",
       "American Indian or Alaska Native              1487\n",
       "Multi-Racial                                   809\n",
       "Other                                          152\n",
       "Native Hawaiian or Other Pacific Islander       92\n",
       "Name: Subject_Perceived_Race, dtype: int64"
      ]
     },
     "execution_count": 19,
     "metadata": {},
     "output_type": "execute_result"
    }
   ],
   "source": [
    "df['Subject_Perceived_Race'].value_counts()"
   ]
  },
  {
   "cell_type": "markdown",
   "metadata": {},
   "source": [
    "We will combine 'Unknown', 'Other', and '-' into one variable, and for the purposes of this analysis they will all become 'Unknown'."
   ]
  },
  {
   "cell_type": "code",
   "execution_count": 20,
   "metadata": {},
   "outputs": [
    {
     "data": {
      "text/plain": [
       "White                                        25798\n",
       "Black or African American                    15666\n",
       "Unknown                                       5368\n",
       "Asian                                         1764\n",
       "Hispanic                                      1684\n",
       "American Indian or Alaska Native              1487\n",
       "Multi-Racial                                   809\n",
       "Native Hawaiian or Other Pacific Islander       92\n",
       "Name: Subject_Perceived_Race, dtype: int64"
      ]
     },
     "execution_count": 20,
     "metadata": {},
     "output_type": "execute_result"
    }
   ],
   "source": [
    "df['Subject_Perceived_Race'].replace(['Other','-'],'Unknown', inplace=True)\n",
    "df['Subject_Perceived_Race'].value_counts()"
   ]
  },
  {
   "cell_type": "code",
   "execution_count": 21,
   "metadata": {},
   "outputs": [
    {
     "data": {
      "text/plain": [
       "Male                                                         41442\n",
       "Female                                                       10581\n",
       "Unable to Determine                                            326\n",
       "-                                                              238\n",
       "Unknown                                                         63\n",
       "Gender Diverse (gender non-conforming and/or transgender)       18\n",
       "Name: Subject_Perceived_Gender, dtype: int64"
      ]
     },
     "execution_count": 21,
     "metadata": {},
     "output_type": "execute_result"
    }
   ],
   "source": [
    "df['Subject_Perceived_Gender'].value_counts()"
   ]
  },
  {
   "cell_type": "markdown",
   "metadata": {},
   "source": [
    "For the sake of this analysis, we will group together all perceived Genders that do not fall under the category of Male or Female into one value, using \"N\" to match the existing Officer Gender Data."
   ]
  },
  {
   "cell_type": "code",
   "execution_count": 22,
   "metadata": {},
   "outputs": [
    {
     "data": {
      "text/plain": [
       "M    41442\n",
       "F    10581\n",
       "N      645\n",
       "Name: Subject_Perceived_Gender, dtype: int64"
      ]
     },
     "execution_count": 22,
     "metadata": {},
     "output_type": "execute_result"
    }
   ],
   "source": [
    "n_gender = ['-', 'Unknown', 'Gender Diverse (gender non-conforming and/or transgender)', 'Unable to Determine']\n",
    "df['Subject_Perceived_Gender'].replace(n_gender, 'N' , inplace=True)\n",
    "\n",
    "df.replace({'Subject_Perceived_Gender' : { 'Male' : 'M', 'Female' : 'F'}}, inplace=True)\n",
    "\n",
    "df['Subject_Perceived_Gender'].value_counts()"
   ]
  },
  {
   "cell_type": "code",
   "execution_count": 23,
   "metadata": {
    "scrolled": true
   },
   "outputs": [
    {
     "data": {
      "text/plain": [
       "-                                                     13484\n",
       "SUSPICIOUS STOP - OFFICER INITIATED ONVIEW             3684\n",
       "SUSPICIOUS PERSON, VEHICLE OR INCIDENT                 3505\n",
       "DISTURBANCE, MISCELLANEOUS/OTHER                       2680\n",
       "ASLT - IP/JO - WITH OR W/O WPNS (NO SHOOTINGS)         2306\n",
       "TRESPASS                                               2110\n",
       "SHOPLIFT - THEFT                                       1598\n",
       "THEFT (DOES NOT INCLUDE SHOPLIFT OR SVCS)              1563\n",
       "FIGHT - IP - PHYSICAL (NO WEAPONS)                     1423\n",
       "WEAPN-IP/JO-GUN,DEADLY WPN (NO THRT/ASLT/DIST)         1267\n",
       "ROBBERY - IP/JO (INCLUDES STRONG ARM)                  1007\n",
       "BURG - IP/JO - RES (INCL UNOCC STRUCTURES)              983\n",
       "THREATS (INCLS IN-PERSON/BY PHONE/IN WRITING)           895\n",
       "AUTO RECOVERY                                           865\n",
       "NARCOTICS - VIOLATIONS (LOITER, USE, SELL, NARS)        856\n",
       "TRAFFIC STOP - OFFICER INITIATED ONVIEW                 777\n",
       "DIST - IP/JO - DV DIST - NO ASLT                        777\n",
       "PROPERTY - DAMAGE                                       775\n",
       "ASLT - IP/JO - DV                                       771\n",
       "BURG - IP/JO - COMM BURG (INCLUDES SCHOOLS)             676\n",
       "ASLT - WITH OR W/O WEAPONS (NO SHOOTINGS)               577\n",
       "ASLT - IP/JO - PERSON SHOT OR SHOT AT                   494\n",
       "WARRANT - FELONY PICKUP                                 462\n",
       "DIST - DV - NO ASLT                                     412\n",
       "NUISANCE - MISCHIEF                                     362\n",
       "DOWN - CHECK FOR PERSON DOWN                            353\n",
       "UNKNOWN - COMPLAINT OF UNKNOWN NATURE                   334\n",
       "ALARM - COMM, SILENT/AUD BURG (INCL BANKS)              312\n",
       "PROWLER - IP/JO                                         297\n",
       "BURG - COMM BURGLARY (INCLUDES SCHOOLS)                 295\n",
       "SHOTS - IP/JO - INCLUDES HEARD/NO ASSAULT               293\n",
       "FIGHT - VERBAL/ORAL (NO WEAPONS)                        291\n",
       "ROBBERY (INCLUDES STRONG ARM)                           255\n",
       "BURG - RES (INCL UNOCC STRUCTURES ON PROP)              246\n",
       "WEAPN - GUN,DEADLY WPN (NO THRTS/ASLT/DIST)             238\n",
       "FIGHT - IP/JO - WITH WEAPONS                            225\n",
       "SFD - ASSIST ON FIRE OR MEDIC RESPONSE                  208\n",
       "PERSON IN BEHAVIORAL/EMOTIONAL CRISIS                   202\n",
       "PREMISE CHECK, OFFICER INITIATED ONVIEW ONLY            196\n",
       "WARRANT - MISD WARRANT PICKUP                           179\n",
       "DUI - DRIVING UNDER INFLUENCE                           177\n",
       "LEWD -  (EXPOSING, FLASHING)                            176\n",
       "HAZ - POTENTIAL THRT TO PHYS SAFETY (NO HAZMAT)         167\n",
       "FIGHT - JO - PHYSICAL (NO WEAPONS)                      160\n",
       "MVC - HIT AND RUN (NON INJURY), INCLUDES IP/JO          158\n",
       "MVC - WITH INJURIES (INCLUDES HIT AND RUN)              152\n",
       "ASLT - DV                                               136\n",
       "SUICIDE - IP/JO SUICIDAL PERSON AND ATTEMPTS            127\n",
       "ASSIST OTHER AGENCY - ROUTINE SERVICE                   123\n",
       "ARSON - IP/JO                                           117\n",
       "UNKNOWN - ANI/ALI - WRLS PHNS (INCL OPEN LINE)          116\n",
       "FRAUD - FORGERY,BUNCO, SCAMS, ID THEFT, ETC             114\n",
       "BURN - RECKLESS BURNING                                 114\n",
       "ORDER - IP - VIOLATION OF DV COURT ORDER                108\n",
       "FOLLOW UP                                               105\n",
       "SEX IN PUBLIC PLACE/VIEW (INCL MASTURBATION)            100\n",
       "AUTO THEFT-IP/JO - VEHICLE, PLATES, TABS                 91\n",
       "SERVICE - WELFARE CHECK                                  85\n",
       "UNDERCOVER OPS, CAUTION (INCLUDES STAKEOUTS)             80\n",
       "DOWN - CHECK FOR DOWN PERSON                             80\n",
       "AUTO THEFT - VEH THEFT OR THEFT & RECOVERY               80\n",
       "THEFT OF SERVICES                                        77\n",
       "LIQUOR VIOLATIONS - ADULT                                66\n",
       "HARAS - NO BIAS, THREATS OR MALICIOUSNESS                65\n",
       "ORDER - VIOLATING DV COURT ORDER                         63\n",
       "MVC - REPORT, NON INJ/NON BLKG OR AFTER FACT INJ         58\n",
       "WARRANT - SEARCH. EXECUTED, SECURED                      58\n",
       "THREATS - DV - NO ASSAULT                                55\n",
       "OVERDOSE - DRUG RELATED CASUALTY                         54\n",
       "ASSIST PUBLIC - NO WELFARE CHK OR DV ORDER SERVICE       52\n",
       "UNKNOWN - ANI/ALI - LANDLINE (INCLUDES OPEN LINE)        49\n",
       "MVC - NON INJURY, BLOCKING                               47\n",
       "ASLT - MOLESTED ADULT (GROPED, FONDLED, ETC.)            47\n",
       "MVC - UNK INJURIES                                       44\n",
       "PROWLER                                                  43\n",
       "VICE - PROSTITUTION                                      43\n",
       "CHILD - IP/JO - ABAND, ABUSE, MOLEST, NEGLECT            41\n",
       "RAPE - IP/JO                                             39\n",
       "CARJACKING - IP/JO - ROBBERY                             34\n",
       "WARRANT - SEARCH. CAUTION (EXCL NARCOTICS)               34\n",
       "ASSIST OTHER AGENCY - EMERGENCY SERVICE                  32\n",
       "TRAFFIC - ROAD RAGE                                      32\n",
       "TRAFFIC - BLOCKING ROADWAY                               30\n",
       "RAPE                                                     28\n",
       "ALARM - RESIDENTIAL - BURGLARY, SILENT/AUDIBLE           27\n",
       "OPEN - BUILDING, DOOR, ETC.                              27\n",
       "ORDER - VIOLATION OF COURT ORDER (NON DV)                27\n",
       "PURSE SNATCH - IP/JO - ROBBERY                           26\n",
       "FOOT - ELUDING POLICE                                    26\n",
       "TRAFFIC - MOVING VIOLATION                               26\n",
       "PANHANDLING, AGGRESSIVE                                  25\n",
       "ARSON - REPORT                                           24\n",
       "CHILD - ABAND, ABUSED, MOLESTED, NEGLECTED               22\n",
       "PEACE-STANDBY TO ASSURE (NO COURT ORDR SVC)              21\n",
       "BIAS -RACIAL, POLITICAL, SEXUAL MOTIVATION               21\n",
       "LIQUOR VIOLATIONS - MINOR                                19\n",
       "HAZ - IMMINENT THRT TO PHYS SAFETY (NO HAZ MAT)          19\n",
       "NARCOTICS WARRANT SERVICE - EXECUTED, SECURED            18\n",
       "NOISE - DISTURBANCE (PARTY, ETC)                         18\n",
       "ALARM - BANK (HOLD-UP)                                   18\n",
       "ANIMAL - INJURED, DEAD HAZARD, OTHER                     18\n",
       "SHOTS -DELAY/INCLUDES HEARD/NO ASSAULT                   17\n",
       "ILLEGAL DUMPING                                          17\n",
       "TRAF - ELUDING POLICE                                    17\n",
       "BOMB THREATS - IP/JO                                     16\n",
       "NOISE - DIST, GENERAL (CONST, RESID, BALL PLAY)          16\n",
       "PROPERTY - FOUND                                         15\n",
       "PEDESTRIAN VIOLATIONS                                    15\n",
       "HELP THE OFFICER                                         14\n",
       "JUVENILE - RUNAWAY PICKUP                                12\n",
       "AUTO - THEFT/LOSS, PLATES AND/OR TAB                     12\n",
       "FIGHT - WITH WEAPONS                                     12\n",
       "ASLT - PERSON SHOT OR SHOT AT                            12\n",
       "PARKING VIOLATION (EXCEPT ABANDONED CAR)                 12\n",
       "FOUND - PERSON                                           12\n",
       "DIRECTED PATROL ACTIVITY                                 11\n",
       "NARCOTICS WARRANT SERVICE                                11\n",
       "FIREWORKS - NUISANCE (NO HAZARD)                         10\n",
       "DOA - CASUALTY, DEAD BODY                                10\n",
       "PURSE SNATCH - ROBBERY                                    9\n",
       "JUVENILE - RUNAWAY                                        9\n",
       "SUICIDE, SUICIDAL PERSON AND ATTEMPTS                     9\n",
       "NARCOTICS - FOUND                                         8\n",
       "CHILD - IP/JO - LURING                                    6\n",
       "URINATING, DEFECATING IN PUBLIC                           6\n",
       "ASSIST SPD - ROUTINE SERVICE                              6\n",
       "-ASSIGNED DUTY - FOOT BEAT (FROM ASSIGNED CAR)            6\n",
       "SUSPICIOUS PACKAGE                                        5\n",
       "ALARM - COMM, HOLD-UP/PANIC (EXCEPT BANKS)                5\n",
       "PARKS VIOLATIONS/CITES (INCLUDES EXCLUSIONS)              5\n",
       "MISSING - CHILD                                           4\n",
       "TRU - THEFT                                               4\n",
       "LICENSE INSPECTIONS (CHECK FOR)                           4\n",
       "CHILD -  LURING                                           4\n",
       "TRACKING ALARM                                            4\n",
       "SICK PERSON                                               3\n",
       "EXPLOSION - IP/JO                                         3\n",
       "ALARM - AUDIBLE AUTOMOBILE (UNOCC/ANTI-THEFT)             3\n",
       "CARJACKING - ROBBERY                                      3\n",
       "OFF DUTY EMPLOYMENT                                       3\n",
       "TRAFFIC - ASSIST MOTORIST                                 3\n",
       "INJURED - IP/JO - PERSON/INDUSTRIAL ACCIDENT              3\n",
       "SLEEPER ABOARD BUS/COMMUTER TRAIN                         2\n",
       "ORDER  - SERVICE OF DV COURT ORDER                        2\n",
       "WARRANT PICKUP - FROM OTHER AGENCY                        2\n",
       "ABDUCTION - IP/JO - UNK KIDNAPPING                        2\n",
       "GAMBLING                                                  2\n",
       "LITTERING                                                 2\n",
       "DEMONSTRATIONS                                            2\n",
       "PROPERTY - DAMAGE (GUN RELATED)                           2\n",
       "ANIMAL - IP/JO - BITE                                     2\n",
       "AWOL - ADULT OR JUVENILE                                  2\n",
       "KNOWN KIDNAPPNG                                           2\n",
       "ASSIST SPD - URGENT SERVICE                               2\n",
       "PROPERTY - FOUND GUN, SHELLCASINGS                        1\n",
       "-ASSIGNED DUTY - STAKEOUT                                 1\n",
       "PHONE - OBSCENE OR NUISANCE PHONE CALLS                   1\n",
       "ESCAPE - PRISONER                                         1\n",
       "HARBOR - WATER EMERGENCIES                                1\n",
       "UNKNOWN - ANI/ALI - PAY PHNS (INCL OPEN LINE)             1\n",
       "ANIMAL, REPORT - BITE                                     1\n",
       "INJURED -  PERSON/INDUSTRIAL ACCIDENT                     1\n",
       "MISSING - (ALZHEIMER, ENDANGERED, ELDERLY)                1\n",
       "ALARM - RESIDENTIAL - SILENT/AUD PANIC/DURESS             1\n",
       "REQUEST TO WATCH                                          1\n",
       "MISSING - ADULT                                           1\n",
       "VICE - PORNOGRAPHY                                        1\n",
       "PREPLANNED EVENT                                          1\n",
       "ORDER - ASSIST DV VIC W/SRVC OF COURT ORDER               1\n",
       "ALARM - ATM MACHINE, FREE STANDING                        1\n",
       "Name: Initial_Call_Type, dtype: int64"
      ]
     },
     "execution_count": 23,
     "metadata": {},
     "output_type": "execute_result"
    }
   ],
   "source": [
    "pd.set_option(\"display.max_rows\", None)\n",
    "df['Initial_Call_Type'].value_counts()"
   ]
  },
  {
   "cell_type": "code",
   "execution_count": 24,
   "metadata": {
    "scrolled": true
   },
   "outputs": [
    {
     "data": {
      "text/plain": [
       "-                                                     13484\n",
       "--SUSPICIOUS CIRCUM. - SUSPICIOUS PERSON               4462\n",
       "--PROWLER - TRESPASS                                   3639\n",
       "--DISTURBANCE - OTHER                                  3000\n",
       "--ASSAULTS, OTHER                                      2547\n",
       "--WARRANT SERVICES - FELONY                            1816\n",
       "--THEFT - SHOPLIFT                                     1440\n",
       "--DV - ARGUMENTS, DISTURBANCE (NO ARREST)              1432\n",
       "--DV - DOMESTIC VIOL/ASLT (ARREST MANDATORY)           1326\n",
       "--ASSAULTS - HARASSMENT, THREATS                       1195\n",
       "--SUSPICIOUS CIRCUM. - SUSPICIOUS VEHICLE              1180\n",
       "--WARRANT SERVICES - MISDEMEANOR                       1096\n",
       "--NARCOTICS - OTHER                                    1071\n",
       "--CRISIS COMPLAINT - GENERAL                            991\n",
       "--THEFT - ALL OTHER                                     886\n",
       "--PROPERTY DEST (DAMG)                                  824\n",
       "--BURGLARY - NON RESIDENTIAL/COMMERCIAL                 691\n",
       "--ROBBERY - STRONG ARM                                  686\n",
       "--AUTOMOBILES - RECOVERY (THEFT)                        684\n",
       "--TRAFFIC - D.U.I.                                      637\n",
       "--DISTURBANCE - FIGHT                                   568\n",
       "--THEFT - CAR PROWL                                     550\n",
       "--WEAPON, PERSON WITH - GUN                             544\n",
       "--ROBBERY - ARMED                                       530\n",
       "--WEAPON,PERSON WITH - OTHER WEAPON                     463\n",
       "--BURGLARY - RESIDENTIAL OCCUPIED                       416\n",
       "--TRAFFIC - MOVING VIOLATION                            321\n",
       "--ASSAULTS - FIREARM INVOLVED                           308\n",
       "--DV - ENFORCE COURT ORDER (ARREST MANDATED)            270\n",
       "--BURGLARY - RESIDENTIAL, UNOCCUPIED                    265\n",
       "--DV - DOMESTIC VIOLENCE (ARREST DISCRETIONARY)         216\n",
       "--AUTOMOBILES - AUTO THEFT & RECOVERY                   196\n",
       "--TRAFFIC - MV COLLISION INVESTIGATION                  193\n",
       "--SEX OFFENSES (NON-RAPE) - LEWD CONDUCT                192\n",
       "--MISCHIEF OR NUISANCE - GENERAL                        183\n",
       "--PROPERTY DEST (DAMG) - GRAFFITI (INCLUDES GANG)       179\n",
       "--ARSON, BOMBS, EXPLO - RECKLESS BURNING                144\n",
       "--BURGLARY - UNOCC STRUC ON RESN PROP                   136\n",
       "--NARCOTICS - NARS REPORT                               133\n",
       "--PROWLER - GENERAL                                     128\n",
       "--ASSIST PUBLIC - OTHER (NON-SPECIFIED)                 119\n",
       "--VICE - PROSTITUTION                                   116\n",
       "--SUSPICIOUS CIRCUM. - BUILDING (OPEN DOOR, ETC)        112\n",
       "SUSPICIOUS STOP - OFFICER INITIATED ONVIEW              109\n",
       "--AUTOMOBILES - AUTO THEFT                              108\n",
       "--ASSIST OTHER AGENCY - CITY AGENCY                      96\n",
       "SUSPICIOUS PERSON, VEHICLE OR INCIDENT                   95\n",
       "--THEFT - BICYCLE                                        95\n",
       "TRESPASS                                                 87\n",
       "--NARCOTICS - DRUG TRAFFIC LOITERING                     84\n",
       "--NARCOTICS - NARCOTICS WARRANT SERVICE                  81\n",
       "--DRIVE BY SHOOTING - NO INJURIES                        78\n",
       "--FRAUD - FRAUD, INCLUDING BUNCO                         77\n",
       "--ALARM-COMM (INC BANK, ATM, SCHOOLS, BSN)               67\n",
       "--ASSIST OTHER AGENCY - COUNTY AGENCY                    62\n",
       "--NARCOTICS - FOUND , RECOVERED NARCOTICS                60\n",
       "--MISC MISD AND VIOLS - RECKLESS ENDANGERMENT            59\n",
       "--PROPERTY - FOUND PROPERTY                              58\n",
       "--FRAUD - FORGERY, BAD CHECKS                            57\n",
       "--ASSIST OTHER AGENCY - STATE AGENCY                     55\n",
       "--PREMISE CHECKS - CRIME PREVENTION                      54\n",
       "--HOMICIDE                                               51\n",
       "ASLT - IP/JO - WITH OR W/O WPNS (NO SHOOTINGS)           51\n",
       "--ARSON, BOMBS, EXPLO - ARSON                            51\n",
       "DISTURBANCE, MISCELLANEOUS/OTHER                         50\n",
       "THEFT (DOES NOT INCLUDE SHOPLIFT OR SVCS)                46\n",
       "SHOPLIFT - THEFT                                         46\n",
       "--DISTURBANCE - NOISE                                    43\n",
       "--AUTOMOBILES - LICENSE PLATE(S) THEFT OR LOSS           42\n",
       "NARCOTICS - VIOLATIONS (LOITER, USE, SELL, NARS)         41\n",
       "--INTOX & LIQ VIOLS - ADULTS (VIOLATIONS)                40\n",
       "--RAPE - KNOWN SUSPECT (ACQUAINTANCE)                    40\n",
       "--THEFT - AUTO ACCESSORIES                               36\n",
       "THREATS (INCLS IN-PERSON/BY PHONE/IN WRITING)            34\n",
       "--DV - ASSIST VICTIM BY COURT ORDER                      33\n",
       "FIGHT - IP - PHYSICAL (NO WEAPONS)                       32\n",
       "--TRAFFIC - REFUSE TO STOP (PURSUIT)                     32\n",
       "TRAFFIC STOP - OFFICER INITIATED ONVIEW                  31\n",
       "--PROWLER - TRESPASS, PARKS EXCLUSION                    29\n",
       "--HAZARDS - HAZARDS                                      29\n",
       "--NARCOTICS - MARIJUANA PUBLIC USE(NOT DISPENSARY)       28\n",
       "--CHILD - ABANDONED, ABUSED AND NEGLECTED                27\n",
       "BURG - IP/JO - RES (INCL UNOCC STRUCTURES)               27\n",
       "AUTO RECOVERY                                            26\n",
       "BURG - IP/JO - COMM BURG (INCLUDES SCHOOLS)              25\n",
       "ROBBERY - IP/JO (INCLUDES STRONG ARM)                    25\n",
       "--DISTURBANCE - JUVENILE                                 24\n",
       "--PERSON - FOUND PERSON                                  24\n",
       "--RAPE - UNKNOWN SUSPECT (STRANGER)                      24\n",
       "--SEX OFFENSES (RAPE) - MOLESTING                        23\n",
       "--CHILD - CHILD ENDANGERMENT                             23\n",
       "--TRAFFIC - PEDESTRIAN VIOLATION                         23\n",
       "--KIDNAP - GENERAL                                       23\n",
       "--TRAFFIC - BLOCKING TRAFFIC                             22\n",
       "--PERSON - RUNAWAY                                       22\n",
       "ASLT - IP/JO - PERSON SHOT OR SHOT AT                    22\n",
       "-PRISONER ESCORT - BUSY CODE                             21\n",
       "--INTOX & LIQ VIOLS - MINORS (VIOLATIONS)                20\n",
       "ASLT - IP/JO - DV                                        20\n",
       "PROPERTY - DAMAGE                                        20\n",
       "--TRAFFIC - PARKING VIOL (EXCEPT ABANDONED CAR)          19\n",
       "--DV - SERVICE OF COURT ORDER                            19\n",
       "--DV - DOMESTIC THREATS BY PHONE OR WRITING              19\n",
       "WEAPN-IP/JO-GUN,DEADLY WPN (NO THRT/ASLT/DIST)           18\n",
       "--TRAFFIC - ASSIST MOTORIST                              16\n",
       "BURG - COMM BURGLARY (INCLUDES SCHOOLS)                  16\n",
       "WARRANT - FELONY PICKUP                                  15\n",
       "PREMISE CHECK, OFFICER INITIATED ONVIEW ONLY             15\n",
       "DIST - IP/JO - DV DIST - NO ASLT                         15\n",
       "DIST - DV - NO ASLT                                      15\n",
       "--ANIMAL COMPLAINT - INJURED,DEAD,DANGEROUS              14\n",
       "--ALARM-RESIDENTIAL BURG                                 14\n",
       "ALARM - COMM, SILENT/AUD BURG (INCL BANKS)               13\n",
       "--INTOX & LIQ VIOLS - INTOXICATED PERSON                 13\n",
       "ASLT - WITH OR W/O WEAPONS (NO SHOOTINGS)                13\n",
       "--DISTURBANCE - NOISE RESIDENTIAL                        13\n",
       "WARRANT - MISD WARRANT PICKUP                            12\n",
       "--DIRECTED PATROL ACTIVITY                               12\n",
       "SHOTS - IP/JO - INCLUDES HEARD/NO ASSAULT                12\n",
       "SFD - ASSIST ON FIRE OR MEDIC RESPONSE                   12\n",
       "--CASUALTY NON-TRAF NON-CRIM - DRUG RELATED (OD)         11\n",
       "MVC - WITH INJURIES (INCLUDES HIT AND RUN)               11\n",
       "--MISC MISD AND VIOLS - PARKS EXCLUSION                   9\n",
       "--CASUALTY,NON-TRAF,NON-CRIM - NON-DRUG RELATED           9\n",
       "DOWN - CHECK FOR PERSON DOWN                              9\n",
       "--ALARM-COMM ROBB (BANK, PANIC, DURESS)                   9\n",
       "--ANIMAL COMPLAINT - NOISE,STRAY,BITE                     9\n",
       "HAZ - POTENTIAL THRT TO PHYS SAFETY (NO HAZMAT)           9\n",
       "UNKNOWN - COMPLAINT OF UNKNOWN NATURE                     9\n",
       "--ASSIST OTHER AGENCY - FEDERAL AGENCY                    9\n",
       "WEAPN - GUN,DEADLY WPN (NO THRTS/ASLT/DIST)               9\n",
       "PROWLER - IP/JO                                           9\n",
       "FIGHT - IP/JO - WITH WEAPONS                              8\n",
       "BURN - RECKLESS BURNING                                   8\n",
       "--TRAFFIC - BICYCLE VIOLATION                             8\n",
       "HARAS - NO BIAS, THREATS OR MALICIOUSNESS                 8\n",
       "--ARSON,BOMBS,EXPLO - BOMBS, EXPLO,LARGE FIREWORKS        7\n",
       "ROBBERY (INCLUDES STRONG ARM)                             7\n",
       "FOLLOW UP                                                 7\n",
       "SEX IN PUBLIC PLACE/VIEW (INCL MASTURBATION)              7\n",
       "LEWD -  (EXPOSING, FLASHING)                              7\n",
       "ASLT - DV                                                 7\n",
       "PURSE SNATCH - IP/JO - ROBBERY                            7\n",
       "--PREMISE CHECKS - HOMELESS ENCAMPMENT                    6\n",
       "--DV - STANDBY TO ASSURE PEACE                            6\n",
       "--ALARM-OTHER (VARDA,PDT,FIRE,LOCAL,METRO,ETC))           6\n",
       "AUTO THEFT - VEH THEFT OR THEFT & RECOVERY                6\n",
       "--VICE - OTHER                                            6\n",
       "--ASSIST PUBLIC - 911 HANG UP, OPEN LINE                  6\n",
       "MVC - NON INJURY, BLOCKING                                6\n",
       "ASSIST OTHER AGENCY - ROUTINE SERVICE                     5\n",
       "NUISANCE - MISCHIEF                                       5\n",
       "AUTO THEFT-IP/JO - VEHICLE, PLATES, TABS                  5\n",
       "FIGHT - JO - PHYSICAL (NO WEAPONS)                        5\n",
       "FIREWORKS - NUISANCE (NO HAZARD)                          5\n",
       "--CRISIS COMPLAINT - PICK-UP OR TRANSPORT                 4\n",
       "--ASSAULTS - TELEPHONE, WRITING                           4\n",
       "--PREMISE CHECKS - BUSINESS CHECK                         4\n",
       "DUI - DRIVING UNDER INFLUENCE                             4\n",
       "--TRAFFIC - COMMUNITY TRAFFIC COMPLAINT (CTC)             4\n",
       "--ALARM-RESIDENTIAL PANIC OR DURESS                       4\n",
       "--PROPERTY - MISSING PROPERTY                             4\n",
       "--ASSAULTS - GANG RELATED                                 4\n",
       "OVERDOSE - DRUG RELATED CASUALTY                          3\n",
       "THREATS - DV - NO ASSAULT                                 3\n",
       "BURG - RES (INCL UNOCC STRUCTURES ON PROP)                3\n",
       "RAPE                                                      3\n",
       "--HARBOR - BOAT ACCIDENT                                  3\n",
       "DOWN - CHECK FOR DOWN PERSON                              3\n",
       "LIQUOR VIOLATIONS - ADULT                                 3\n",
       "MVC - REPORT, NON INJ/NON BLKG OR AFTER FACT INJ          3\n",
       "SERVICE - WELFARE CHECK                                   3\n",
       "PROPERTY - FOUND                                          3\n",
       "--SEX OFFENSES (NON-RAPE) - FAILURE TO REGISTER           3\n",
       "NARCOTICS - FOUND                                         3\n",
       "MVC - HIT AND RUN (NON INJURY), INCLUDES IP/JO            3\n",
       "ORDER - VIOLATING DV COURT ORDER                          2\n",
       "--AUTOMOBILES - ABANDONED CAR                             2\n",
       "VICE - PROSTITUTION                                       2\n",
       "-ASSIGNED DUTY - FOOT BEAT (FROM ASSIGNED CAR)            2\n",
       "PERSON IN BEHAVIORAL/EMOTIONAL CRISIS                     2\n",
       "--HARBOR - VESSEL, THEFT                                  2\n",
       "ASSIST OTHER AGENCY - EMERGENCY SERVICE                   2\n",
       "ORDER - VIOLATION OF COURT ORDER (NON DV)                 2\n",
       "HOSPITAL GUARD ASSIGNMENT                                 2\n",
       "FOOT - ELUDING POLICE                                     2\n",
       "MVC - UNK INJURIES                                        2\n",
       "--PERSON - MISSING PERSON                                 2\n",
       "--HARBOR - BOATING UNDER THE INFLUENCE                    2\n",
       "BOMB - THREATS                                            2\n",
       "--VICE - GAMBLING                                         2\n",
       "-ASSIGNED DUTY - COMMUNITY,SCHOOL,SPECIAL EVENT           2\n",
       "HAZ - IMMINENT THRT TO PHYS SAFETY (NO HAZ MAT)           2\n",
       "CARJACKING - IP/JO - ROBBERY                              1\n",
       "UNDERCOVER OPS, CAUTION (INCLUDES STAKEOUTS)              1\n",
       "DOA - CASUALTY, DEAD BODY                                 1\n",
       "TRAFFIC - MOVING VIOLATION                                1\n",
       "ESCAPE - PRISONER                                         1\n",
       "DEMONSTRATIONS                                            1\n",
       "NOISE - DIST, GENERAL (CONST, RESID, BALL PLAY)           1\n",
       "-OFF DUTY EMPLOYMENT                                      1\n",
       "--HARBOR - ASSIST BOATER (NON EMERG)                      1\n",
       "TRAFFIC - BLOCKING ROADWAY                                1\n",
       "BIAS -RACIAL, POLITICAL, SEXUAL MOTIVATION                1\n",
       "--COMMERCIAL SEXUAL EXPLOITATION OF MINORS (CSEC)         1\n",
       "ASSIST PUBLIC - NO WELFARE CHK OR DV ORDER SERVICE        1\n",
       "FRAUD - FORGERY,BUNCO, SCAMS, ID THEFT, ETC               1\n",
       "--PREMISE CHECKS - REQUEST TO WATCH                       1\n",
       "DIRECTED PATROL ACTIVITY                                  1\n",
       "KNOWN KIDNAPPNG                                           1\n",
       "THEFT OF SERVICES                                         1\n",
       "WARRANT PICKUP - FROM OTHER AGENCY                        1\n",
       "SUICIDE - IP/JO SUICIDAL PERSON AND ATTEMPTS              1\n",
       "SHOTS -DELAY/INCLUDES HEARD/NO ASSAULT                    1\n",
       "BIAS -IP/JO - RACIAL, POLITICAL, SEXUAL MOTIVATION        1\n",
       "--CROWD MGMNT (STAND BY ONLY)                             1\n",
       "NARCOTICS WARRANT SERVICE                                 1\n",
       "TRAF - ELUDING POLICE                                     1\n",
       "PEACE-STANDBY TO ASSURE (NO COURT ORDR SVC)               1\n",
       "--DEMO MGMNT (CONTROL TACTICS USED)                       1\n",
       "FIGHT - VERBAL/ORAL (NO WEAPONS)                          1\n",
       "-ASSIGNED DUTY - STAKEOUT                                 1\n",
       "PROWLER                                                   1\n",
       "HELP THE OFFICER                                          1\n",
       "Name: Final_Call_Type, dtype: int64"
      ]
     },
     "execution_count": 24,
     "metadata": {},
     "output_type": "execute_result"
    }
   ],
   "source": [
    "df['Final_Call_Type'].value_counts()"
   ]
  },
  {
   "cell_type": "code",
   "execution_count": 25,
   "metadata": {},
   "outputs": [
    {
     "data": {
      "text/plain": [
       "911                              24282\n",
       "-                                13484\n",
       "ONVIEW                           10806\n",
       "TELEPHONE OTHER, NOT 911          3646\n",
       "ALARM CALL (NOT POLICE ALARM)      434\n",
       "TEXT MESSAGE                        15\n",
       "SCHEDULED EVENT (RECURRING)          1\n",
       "Name: Call_Type, dtype: int64"
      ]
     },
     "execution_count": 25,
     "metadata": {},
     "output_type": "execute_result"
    }
   ],
   "source": [
    "df['Call_Type'].value_counts()"
   ]
  },
  {
   "cell_type": "markdown",
   "metadata": {},
   "source": [
    "The various 'Call Type' columns yield a very large variety of data. For the current purposes of this analysis, there is too miuch variability and too much potential for negatively impacting out algorithms (certain 'Final Call Type's specifying whether or not an arrest was made could present redundant data since there is also a column of arrest flags, for example.) \n",
    "\n",
    "While it is outside the scope of the current analysis, this information could nonetheless be valuable for more in depth studies of Terry Stop Data conducted as a continuation of this one. For the time being, these columns will be dropped."
   ]
  },
  {
   "cell_type": "code",
   "execution_count": 26,
   "metadata": {},
   "outputs": [],
   "source": [
    "drop_call_types = ['Call_Type', 'Initial_Call_Type', 'Final_Call_Type']\n",
    "\n",
    "df.drop(drop_call_types, axis=1, inplace=True)"
   ]
  },
  {
   "cell_type": "code",
   "execution_count": 27,
   "metadata": {
    "scrolled": true
   },
   "outputs": [
    {
     "data": {
      "text/plain": [
       "N    40062\n",
       "Y    12128\n",
       "-      478\n",
       "Name: Frisk_Flag, dtype: int64"
      ]
     },
     "execution_count": 27,
     "metadata": {},
     "output_type": "execute_result"
    }
   ],
   "source": [
    "df['Frisk_Flag'].value_counts()"
   ]
  },
  {
   "cell_type": "markdown",
   "metadata": {},
   "source": [
    "We could interpret '-' as a non-Frisk, but there is just as much likelihood that the '-' refers to an unreported Frisk. Because there are so few entries with this information, our 52,000 remaining entries will not be harmed by the removal of this data to be safe."
   ]
  },
  {
   "cell_type": "code",
   "execution_count": 28,
   "metadata": {},
   "outputs": [
    {
     "data": {
      "text/plain": [
       "0    40062\n",
       "1    12128\n",
       "Name: Frisk_Flag, dtype: int64"
      ]
     },
     "execution_count": 28,
     "metadata": {},
     "output_type": "execute_result"
    }
   ],
   "source": [
    "df = df[df['Frisk_Flag'] != '-']\n",
    "df.replace({'Frisk_Flag' : { 'Y' : 1, 'N' : 0}}, inplace=True)\n",
    "df['Frisk_Flag'].value_counts()"
   ]
  },
  {
   "cell_type": "code",
   "execution_count": 29,
   "metadata": {
    "scrolled": true
   },
   "outputs": [
    {
     "data": {
      "text/plain": [
       "21       19\n",
       "22      262\n",
       "23      981\n",
       "24     1909\n",
       "25     2231\n",
       "26     2636\n",
       "27     2553\n",
       "28     2863\n",
       "29     3014\n",
       "30     3173\n",
       "31     3363\n",
       "32     3084\n",
       "33     3038\n",
       "34     2823\n",
       "35     2255\n",
       "36     1632\n",
       "37     1466\n",
       "38     1324\n",
       "39     1148\n",
       "40     1152\n",
       "41      971\n",
       "42     1079\n",
       "43      791\n",
       "44      827\n",
       "45      841\n",
       "46      886\n",
       "47      671\n",
       "48      689\n",
       "49      630\n",
       "50      590\n",
       "51      479\n",
       "52      421\n",
       "53      419\n",
       "54      478\n",
       "55      368\n",
       "56      274\n",
       "57      261\n",
       "58      204\n",
       "59      101\n",
       "60       86\n",
       "61       48\n",
       "62       18\n",
       "63       35\n",
       "64       15\n",
       "65       16\n",
       "66        2\n",
       "67       12\n",
       "68        6\n",
       "69        2\n",
       "70        1\n",
       "115       1\n",
       "116       2\n",
       "117       1\n",
       "118       3\n",
       "119      28\n",
       "121       8\n",
       "Name: Officer_Age, dtype: int64"
      ]
     },
     "execution_count": 29,
     "metadata": {},
     "output_type": "execute_result"
    }
   ],
   "source": [
    "df['Officer_Age'].value_counts().sort_index(ascending=True)"
   ]
  },
  {
   "cell_type": "markdown",
   "metadata": {},
   "source": [
    "It's unlikely that there are officers over 100 years old making this arrests, and very few entries contain this odd data, so we will remove them."
   ]
  },
  {
   "cell_type": "code",
   "execution_count": 30,
   "metadata": {
    "scrolled": true
   },
   "outputs": [
    {
     "data": {
      "text/plain": [
       "21      19\n",
       "22     262\n",
       "23     981\n",
       "24    1909\n",
       "25    2231\n",
       "26    2636\n",
       "27    2553\n",
       "28    2863\n",
       "29    3014\n",
       "30    3173\n",
       "31    3363\n",
       "32    3084\n",
       "33    3038\n",
       "34    2823\n",
       "35    2255\n",
       "36    1632\n",
       "37    1466\n",
       "38    1324\n",
       "39    1148\n",
       "40    1152\n",
       "41     971\n",
       "42    1079\n",
       "43     791\n",
       "44     827\n",
       "45     841\n",
       "46     886\n",
       "47     671\n",
       "48     689\n",
       "49     630\n",
       "50     590\n",
       "51     479\n",
       "52     421\n",
       "53     419\n",
       "54     478\n",
       "55     368\n",
       "56     274\n",
       "57     261\n",
       "58     204\n",
       "59     101\n",
       "60      86\n",
       "61      48\n",
       "62      18\n",
       "63      35\n",
       "64      15\n",
       "65      16\n",
       "66       2\n",
       "67      12\n",
       "68       6\n",
       "69       2\n",
       "70       1\n",
       "Name: Officer_Age, dtype: int64"
      ]
     },
     "execution_count": 30,
     "metadata": {},
     "output_type": "execute_result"
    }
   ],
   "source": [
    "df = df[df['Officer_Age']<100]\n",
    "df['Officer_Age'].value_counts().sort_index(ascending=True)"
   ]
  },
  {
   "cell_type": "code",
   "execution_count": 31,
   "metadata": {},
   "outputs": [],
   "source": [
    "#safe new data1\n",
    "df.to_csv('./data/cleaned_df.csv', index=False)"
   ]
  },
  {
   "cell_type": "markdown",
   "metadata": {},
   "source": [
    "\n",
    "## Visualizations of Data\n",
    "\n",
    "This data is ready to be preprocessed and run through various classifiers to attempt to predict outcomes based on the features and targets we have just cleaned. This will happen in the [Data Modeling Notebook](./nb_2-terry_models.ipynb)\n",
    "\n",
    "Before we do this, however, we will now visualize the cleaned data in relation to our objectives, in an investigation of the racial disparity in Terry Stops."
   ]
  },
  {
   "cell_type": "code",
   "execution_count": 32,
   "metadata": {
    "scrolled": false
   },
   "outputs": [
    {
     "data": {
      "text/plain": [
       "([0, 1, 2, 3, 4, 5, 6, 7],\n",
       " [Text(0, 0, ''),\n",
       "  Text(0, 0, ''),\n",
       "  Text(0, 0, ''),\n",
       "  Text(0, 0, ''),\n",
       "  Text(0, 0, ''),\n",
       "  Text(0, 0, ''),\n",
       "  Text(0, 0, ''),\n",
       "  Text(0, 0, '')])"
      ]
     },
     "execution_count": 32,
     "metadata": {},
     "output_type": "execute_result"
    },
    {
     "data": {
      "image/png": "[encoded data removed]",
      "text/plain": [
       "<Figure size 720x360 with 1 Axes>"
      ]
     },
     "metadata": {
      "needs_background": "light"
     },
     "output_type": "display_data"
    }
   ],
   "source": [
    "plt.style.use('seaborn-deep')\n",
    "fig, ax = plt.subplots(figsize=(10,5))\n",
    "sns.histplot(data = df, \n",
    "             x = \"Subject_Perceived_Race\", \n",
    "             hue = \"Arrested\", \n",
    "             multiple='stack', bins='auto')\n",
    "\n",
    "ax.set_xlabel('', fontsize=10)\n",
    "ax.set_title('Total Stops and Arrests by Subject Race', fontsize=17)\n",
    "plt.legend(labels=['Arrested', 'Stopped'], fontsize=14)\n",
    "plt.xticks(rotation= 33, ha='right', rotation_mode='anchor', fontsize=12)"
   ]
  },
  {
   "cell_type": "code",
   "execution_count": 33,
   "metadata": {},
   "outputs": [
    {
     "data": {
      "text/plain": [
       "([0, 1, 2, 3, 4, 5, 6, 7],\n",
       " [Text(0, 0, ''),\n",
       "  Text(0, 0, ''),\n",
       "  Text(0, 0, ''),\n",
       "  Text(0, 0, ''),\n",
       "  Text(0, 0, ''),\n",
       "  Text(0, 0, ''),\n",
       "  Text(0, 0, ''),\n",
       "  Text(0, 0, '')])"
      ]
     },
     "execution_count": 33,
     "metadata": {},
     "output_type": "execute_result"
    },
    {
     "data": {
      "image/png": "[encoded data removed]",
      "text/plain": [
       "<Figure size 720x360 with 1 Axes>"
      ]
     },
     "metadata": {
      "needs_background": "light"
     },
     "output_type": "display_data"
    }
   ],
   "source": [
    "plt.style.use('seaborn-deep')\n",
    "fig, ax = plt.subplots(figsize=(10,5))\n",
    "sns.histplot(data = df, \n",
    "             x = \"Subject_Perceived_Race\", \n",
    "             hue = \"Legal_Action_Taken\", \n",
    "             multiple='stack', bins='auto')\n",
    "\n",
    "ax.set_xlabel('', fontsize=10)\n",
    "ax.set_title('Total Stops and Legal Action Taken by Subject Race', fontsize=17)\n",
    "plt.legend(labels=['Arrested', 'Stopped'], fontsize=14)\n",
    "plt.xticks(rotation= 33, ha='right', rotation_mode='anchor', fontsize=12)"
   ]
  },
  {
   "cell_type": "markdown",
   "metadata": {},
   "source": [
    "On the surface this data doesn't seem to tell us much. We see a consistent trend of results that are hard to draw any real meaning from. Before we discount these, though, we will investigate demographics of Seattle's population."
   ]
  },
  {
   "cell_type": "code",
   "execution_count": 34,
   "metadata": {
    "scrolled": false
   },
   "outputs": [
    {
     "name": "stdout",
     "output_type": "stream",
     "text": [
      "Demographic Data on the population of Seattle as of 2022:\n"
     ]
    },
    {
     "data": {
      "text/html": [
       "<div>\n",
       "<style scoped>\n",
       "    .dataframe tbody tr th:only-of-type {\n",
       "        vertical-align: middle;\n",
       "    }\n",
       "\n",
       "    .dataframe tbody tr th {\n",
       "        vertical-align: top;\n",
       "    }\n",
       "\n",
       "    .dataframe thead th {\n",
       "        text-align: right;\n",
       "    }\n",
       "</style>\n",
       "<table border=\"1\" class=\"dataframe\">\n",
       "  <thead>\n",
       "    <tr style=\"text-align: right;\">\n",
       "      <th></th>\n",
       "      <th>Race</th>\n",
       "      <th>Population</th>\n",
       "      <th>Percentage</th>\n",
       "    </tr>\n",
       "  </thead>\n",
       "  <tbody>\n",
       "    <tr>\n",
       "      <th>0</th>\n",
       "      <td>White</td>\n",
       "      <td>487824</td>\n",
       "      <td>0.6581</td>\n",
       "    </tr>\n",
       "    <tr>\n",
       "      <th>1</th>\n",
       "      <td>Asian</td>\n",
       "      <td>120921</td>\n",
       "      <td>0.1631</td>\n",
       "    </tr>\n",
       "    <tr>\n",
       "      <th>2</th>\n",
       "      <td>Two or More Races</td>\n",
       "      <td>56632</td>\n",
       "      <td>0.0764</td>\n",
       "    </tr>\n",
       "    <tr>\n",
       "      <th>3</th>\n",
       "      <td>Black or African American</td>\n",
       "      <td>52334</td>\n",
       "      <td>0.0706</td>\n",
       "    </tr>\n",
       "    <tr>\n",
       "      <th>4</th>\n",
       "      <td>Some Other Race</td>\n",
       "      <td>17629</td>\n",
       "      <td>0.0238</td>\n",
       "    </tr>\n",
       "    <tr>\n",
       "      <th>5</th>\n",
       "      <td>American Indian and Alaska Native</td>\n",
       "      <td>3972</td>\n",
       "      <td>0.0054</td>\n",
       "    </tr>\n",
       "    <tr>\n",
       "      <th>6</th>\n",
       "      <td>Native Hawaiian and Other Pacific Islander</td>\n",
       "      <td>1939</td>\n",
       "      <td>0.0026</td>\n",
       "    </tr>\n",
       "  </tbody>\n",
       "</table>\n",
       "</div>"
      ],
      "text/plain": [
       "                                         Race  Population  Percentage\n",
       "0                                       White      487824      0.6581\n",
       "1                                       Asian      120921      0.1631\n",
       "2                           Two or More Races       56632      0.0764\n",
       "3                   Black or African American       52334      0.0706\n",
       "4                             Some Other Race       17629      0.0238\n",
       "5           American Indian and Alaska Native        3972      0.0054\n",
       "6  Native Hawaiian and Other Pacific Islander        1939      0.0026"
      ]
     },
     "execution_count": 34,
     "metadata": {},
     "output_type": "execute_result"
    }
   ],
   "source": [
    "demo_data = pd.read_csv('data/demographics.csv')\n",
    "print(\"Demographic Data on the population of Seattle as of 2022:\")\n",
    "demo_data"
   ]
  },
  {
   "cell_type": "markdown",
   "metadata": {},
   "source": [
    "This data shows that the white population of Seattle makes up 65% of the population. And the Black population makes up 7% of the popoulation. Nonetheless, there seems to be an almost equal amount of stops, frisks, and arrests for both racial backgrounds.\n"
   ]
  },
  {
   "cell_type": "code",
   "execution_count": 35,
   "metadata": {
    "scrolled": false
   },
   "outputs": [
    {
     "data": {
      "text/html": [
       "<div>\n",
       "<style scoped>\n",
       "    .dataframe tbody tr th:only-of-type {\n",
       "        vertical-align: middle;\n",
       "    }\n",
       "\n",
       "    .dataframe tbody tr th {\n",
       "        vertical-align: top;\n",
       "    }\n",
       "\n",
       "    .dataframe thead th {\n",
       "        text-align: right;\n",
       "    }\n",
       "</style>\n",
       "<table border=\"1\" class=\"dataframe\">\n",
       "  <thead>\n",
       "    <tr style=\"text-align: right;\">\n",
       "      <th></th>\n",
       "      <th>Race</th>\n",
       "      <th>Total_Stopped</th>\n",
       "      <th>Population</th>\n",
       "      <th>Percentage</th>\n",
       "      <th>Frisk_Flag</th>\n",
       "      <th>Officer_Age</th>\n",
       "      <th>Legal_Action_Taken</th>\n",
       "      <th>Arrested</th>\n",
       "      <th>Physical_Arrest</th>\n",
       "      <th>no_legal_action</th>\n",
       "    </tr>\n",
       "  </thead>\n",
       "  <tbody>\n",
       "    <tr>\n",
       "      <th>0</th>\n",
       "      <td>Asian</td>\n",
       "      <td>1752</td>\n",
       "      <td>120921</td>\n",
       "      <td>0.1631</td>\n",
       "      <td>478.0</td>\n",
       "      <td>59656.0</td>\n",
       "      <td>1005.0</td>\n",
       "      <td>478.0</td>\n",
       "      <td>200.0</td>\n",
       "      <td>747.0</td>\n",
       "    </tr>\n",
       "    <tr>\n",
       "      <th>1</th>\n",
       "      <td>Black or African American</td>\n",
       "      <td>15538</td>\n",
       "      <td>52334</td>\n",
       "      <td>0.0706</td>\n",
       "      <td>4260.0</td>\n",
       "      <td>529157.0</td>\n",
       "      <td>9694.0</td>\n",
       "      <td>4324.0</td>\n",
       "      <td>1627.0</td>\n",
       "      <td>5844.0</td>\n",
       "    </tr>\n",
       "    <tr>\n",
       "      <th>2</th>\n",
       "      <td>Multi-Racial</td>\n",
       "      <td>796</td>\n",
       "      <td>56632</td>\n",
       "      <td>0.0764</td>\n",
       "      <td>181.0</td>\n",
       "      <td>29653.0</td>\n",
       "      <td>496.0</td>\n",
       "      <td>159.0</td>\n",
       "      <td>0.0</td>\n",
       "      <td>300.0</td>\n",
       "    </tr>\n",
       "    <tr>\n",
       "      <th>3</th>\n",
       "      <td>White</td>\n",
       "      <td>25565</td>\n",
       "      <td>487824</td>\n",
       "      <td>0.6581</td>\n",
       "      <td>5112.0</td>\n",
       "      <td>890007.0</td>\n",
       "      <td>14491.0</td>\n",
       "      <td>6072.0</td>\n",
       "      <td>2277.0</td>\n",
       "      <td>11074.0</td>\n",
       "    </tr>\n",
       "    <tr>\n",
       "      <th>4</th>\n",
       "      <td>Other</td>\n",
       "      <td>6830</td>\n",
       "      <td>23540</td>\n",
       "      <td>0.0318</td>\n",
       "      <td>1288.0</td>\n",
       "      <td>179801.0</td>\n",
       "      <td>2395.0</td>\n",
       "      <td>946.0</td>\n",
       "      <td>475.0</td>\n",
       "      <td>4435.0</td>\n",
       "    </tr>\n",
       "  </tbody>\n",
       "</table>\n",
       "</div>"
      ],
      "text/plain": [
       "                        Race  Total_Stopped  Population  Percentage  \\\n",
       "0                      Asian           1752      120921      0.1631   \n",
       "1  Black or African American          15538       52334      0.0706   \n",
       "2               Multi-Racial            796       56632      0.0764   \n",
       "3                      White          25565      487824      0.6581   \n",
       "4                      Other           6830       23540      0.0318   \n",
       "\n",
       "   Frisk_Flag  Officer_Age  Legal_Action_Taken  Arrested  Physical_Arrest  \\\n",
       "0       478.0      59656.0              1005.0     478.0            200.0   \n",
       "1      4260.0     529157.0              9694.0    4324.0           1627.0   \n",
       "2       181.0      29653.0               496.0     159.0              0.0   \n",
       "3      5112.0     890007.0             14491.0    6072.0           2277.0   \n",
       "4      1288.0     179801.0              2395.0     946.0            475.0   \n",
       "\n",
       "   no_legal_action  \n",
       "0            747.0  \n",
       "1           5844.0  \n",
       "2            300.0  \n",
       "3          11074.0  \n",
       "4           4435.0  "
      ]
     },
     "execution_count": 35,
     "metadata": {},
     "output_type": "execute_result"
    }
   ],
   "source": [
    "#adjust race names to match\n",
    "demo_data['Race'].replace('Two or More Races', 'Multi-Racial' , inplace=True)\n",
    "demo_data['Race'].replace('Some Other Race', 'Unknown' , inplace=True)\n",
    "\n",
    "#join data\n",
    "\n",
    "\n",
    "race_df = df.groupby(['Subject_Perceived_Race']).sum()\n",
    "\n",
    "race_df = demo_data.join(race_df, on='Race')\n",
    "\n",
    "race_df = race_df.fillna(0)\n",
    "\n",
    "#rename lower population numbers to combined \"Other\"\n",
    "lower_pop = ['Unknown', 'American Indian and Alaska Native', 'Native Hawaiian and Other Pacific Islander']\n",
    "total = race_df[race_df['Race'].isin(lower_pop)].sum()\n",
    "total.name = 'Other'\n",
    "total['Race']='Other'\n",
    "\n",
    "# Assign sum of all rows of DataFrame as a new Row\n",
    "race_df = race_df.append(total.transpose())\n",
    "race_df = race_df[~race_df['Race'].isin(lower_pop)]\n",
    "# race_df\n",
    "\n",
    "\n",
    "#totals column\n",
    "total_stops = df.groupby(['Subject_Perceived_Race'], as_index=False).count()[['Subject_Perceived_Race','Arrested']]\n",
    "total_stops.rename(columns={'Arrested': 'Total_Stopped', 'Subject_Perceived_Race':'Race'}, inplace=True)\n",
    "\n",
    "lower_pop = ['Unknown', 'American Indian or Alaska Native', 'Native Hawaiian or Other Pacific Islander']\n",
    "\n",
    "total = total_stops[total_stops['Race'].isin(lower_pop)].sum()\n",
    "total.name = 'Other'\n",
    "total['Race']='Other'\n",
    "total_stops = total_stops.append(total.transpose())\n",
    "total_stops = total_stops[~total_stops['Race'].isin(lower_pop)]\n",
    "\n",
    "# total_stops\n",
    "race_df = total_stops.merge(race_df, on='Race', how='inner')\n",
    "\n",
    "race_df['no_legal_action'] = race_df['Total_Stopped']-race_df['Legal_Action_Taken']\n",
    "\n",
    "race_df"
   ]
  },
  {
   "cell_type": "code",
   "execution_count": 36,
   "metadata": {
    "scrolled": false
   },
   "outputs": [
    {
     "data": {
      "image/png": "[encoded data removed]",
      "text/plain": [
       "<Figure size 1080x576 with 2 Axes>"
      ]
     },
     "metadata": {},
     "output_type": "display_data"
    }
   ],
   "source": [
    "labels = ['Asian', 'Black or African American', 'Multi-Racial', 'White', 'Other']\n",
    "\n",
    "fig = plt.figure(figsize=(15,8))\n",
    "\n",
    "ax1 = fig.add_axes([0, 0, .5, .5], aspect=1)\n",
    "ax1.pie(race_df['Population'], labels=labels, radius = 1.2, textprops={'fontsize': 12}, autopct='%.1f%%')\n",
    "ax1.set_title('Total Population of Seattle', fontsize=20, pad=30)\n",
    "\n",
    "\n",
    "ax2 = fig.add_axes([.5, .0, .5, .5], aspect=1)\n",
    "ax2.pie(race_df['Total_Stopped'], labels=labels, radius = 1.2, textprops={'fontsize': 12}, autopct='%.1f%%')\n",
    "ax2.set_title('Subjects of Terry Stops', fontsize=20,  pad=35)\n",
    "\n",
    "\n",
    "\n",
    "plt.show()"
   ]
  },
  {
   "cell_type": "markdown",
   "metadata": {},
   "source": [
    "There's a pretty clear discrepancy shown in this graphic, as the minority population seems to be the subject of Terry Stops far more than the percentage of the population might suggest.\n",
    "\n",
    "Futher analysis should be able to identify the cause of this."
   ]
  },
  {
   "cell_type": "markdown",
   "metadata": {},
   "source": [
    "### Next: [Data Modeling Notebook](./nb_2-terry_models.ipynb)\n"
   ]
  }
 ],
 "metadata": {
  "kernelspec": {
   "display_name": "Python 3",
   "language": "python",
   "name": "python3"
  },
  "language_info": {
   "codemirror_mode": {
    "name": "ipython",
    "version": 3
   },
   "file_extension": ".py",
   "mimetype": "text/x-python",
   "name": "python",
   "nbconvert_exporter": "python",
   "pygments_lexer": "ipython3",
   "version": "3.8.5"
  }
 },
 "nbformat": 4,
 "nbformat_minor": 4
}
